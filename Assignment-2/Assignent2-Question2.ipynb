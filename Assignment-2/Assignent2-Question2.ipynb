{
 "cells": [
  {
   "cell_type": "markdown",
   "id": "acc9322a",
   "metadata": {},
   "source": [
    "<h1> COMP 361 & 651 Data Analytics </h1>"
   ]
  },
  {
   "cell_type": "markdown",
   "id": "b6c8b767",
   "metadata": {},
   "source": [
    "* Problem 2 of Assignment 2"
   ]
  },
  {
   "cell_type": "markdown",
   "id": "4c64eb4f",
   "metadata": {},
   "source": [
    "<h3> Goals </h3>\n",
    "\n",
    "Become acquainted with\n",
    "<ol>\n",
    "    <li> Jupyter </li>\n",
    "    <li> Markdown </li>\n",
    "    \n",
    "</ol> \n"
   ]
  },
  {
   "cell_type": "markdown",
   "id": "bc379afe",
   "metadata": {},
   "source": [
    "Prompt for and input two integers, assigned, respectively, to i1 and i2\n",
    "\n",
    "<ul>\n",
    "    <li> the sum of i1 and i2 </li>\n",
    "    <li> the product of i1 and i2 </li>\n",
    "</ul>\n",
    " "
   ]
  },
  {
   "cell_type": "code",
   "execution_count": 3,
   "id": "cea4f5ee",
   "metadata": {},
   "outputs": [
    {
     "name": "stdout",
     "output_type": "stream",
     "text": [
      "Enter an integer: 2\n",
      "Enter another integer: 3\n",
      "The sum is  5\n",
      "The product is  6\n"
     ]
    }
   ],
   "source": [
    "i1 = eval(input(\"Enter an integer: \"))\n",
    "i2 = eval(input(\"Enter another integer: \"))\n",
    "print(\"The sum is \", i1+i2)\n",
    "print(\"The product is \", i1 * i2)"
   ]
  },
  {
   "cell_type": "markdown",
   "id": "378943fb",
   "metadata": {},
   "source": [
    "Define a function filter_greater() that is passed\n",
    "<ol>\n",
    "    <li> a list of integers ls and </li>\n",
    "    <li> an integer </li>\n",
    "</ol>\n",
    "and returns\n",
    "<ul>\n",
    "    <li> a list of integers in ls greater than n </li>\n",
    "</ul>\n"
   ]
  },
  {
   "cell_type": "code",
   "execution_count": 6,
   "id": "a7484105",
   "metadata": {},
   "outputs": [],
   "source": [
    "def filter_greater(l, n):\n",
    "    lst = []\n",
    "    for i in l:\n",
    "        if i > n:\n",
    "            lst.append(i)\n",
    "    return lst\n",
    "    \n",
    "    "
   ]
  },
  {
   "cell_type": "markdown",
   "id": "8bf76602",
   "metadata": {},
   "source": [
    "Call filter_greater([7,1,6,2,5,3,4], 3))"
   ]
  },
  {
   "cell_type": "code",
   "execution_count": 8,
   "id": "3b347937",
   "metadata": {},
   "outputs": [
    {
     "data": {
      "text/plain": [
       "[7, 6, 5, 4]"
      ]
     },
     "execution_count": 8,
     "metadata": {},
     "output_type": "execute_result"
    }
   ],
   "source": [
    "filter_greater([7,1,6,2,5,3,4], 3)"
   ]
  },
  {
   "cell_type": "code",
   "execution_count": null,
   "id": "7968aa09",
   "metadata": {},
   "outputs": [],
   "source": []
  }
 ],
 "metadata": {
  "kernelspec": {
   "display_name": "Python 3 (ipykernel)",
   "language": "python",
   "name": "python3"
  },
  "language_info": {
   "codemirror_mode": {
    "name": "ipython",
    "version": 3
   },
   "file_extension": ".py",
   "mimetype": "text/x-python",
   "name": "python",
   "nbconvert_exporter": "python",
   "pygments_lexer": "ipython3",
   "version": "3.9.13"
  }
 },
 "nbformat": 4,
 "nbformat_minor": 5
}
